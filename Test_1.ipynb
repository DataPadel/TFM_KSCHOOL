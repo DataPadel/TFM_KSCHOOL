{
  "cells": [
    {
      "cell_type": "markdown",
      "metadata": {
        "id": "nBpHNI3wthDr"
      },
      "source": [
        "<center><h1 style=\"text-align: center;\"><u>Python Colab</u></h1>\n",
        "<p style=\"text-align:center;font-family:Verdana;\">\n",
        "    <h2>Objetivos:</h2>\n",
        "    - Formar al alumno para poder interconectar el ipynb de Colab con Google Drive.<br>- Mostrar las características más usadas y conocidas para poder formatear adecuadamente el notebook a través de Markdown.\n",
        "</p>\n",
        "\n",
        "<br>\n",
        "<h3>Notebook 1</h3>\n",
        "<br>\n",
        "<img style=\"text-align: center;width: 800px\" src=\"https://raw.githubusercontent.com/0xdevgranero/kschool/main/imgs/challenge.jpeg\" alt=\"logo\"></center>\n",
        "<br>\n",
        "\n",
        "---\n",
        "---\n",
        "---"
      ]
    },
    {
      "cell_type": "markdown",
      "metadata": {},
      "source": [
        "\n",
        "<a id=\"bloque2\"></a>\n",
        "<font color=\"#008000\" size=3 style=\"font-family:Verdana;\">Este ejemplo solo es para usarlo con google colab, por eso da fallo en visual studio, por que no tenemos maquinas de GPU por detras</font>"
      ]
    },
    {
      "cell_type": "code",
      "execution_count": 1,
      "metadata": {
        "colab": {
          "base_uri": "https://localhost:8080/"
        },
        "id": "iHcJgUvGSDJG",
        "outputId": "c4534730-476f-4962-9871-bdb1fcd464a0"
      },
      "outputs": [
        {
          "ename": "ModuleNotFoundError",
          "evalue": "No module named 'tensorflow'",
          "output_type": "error",
          "traceback": [
            "\u001b[1;31m---------------------------------------------------------------------------\u001b[0m",
            "\u001b[1;31mModuleNotFoundError\u001b[0m                       Traceback (most recent call last)",
            "Cell \u001b[1;32mIn[1], line 2\u001b[0m\n\u001b[0;32m      1\u001b[0m \u001b[38;5;66;03m#@title Esto es un formulario\u001b[39;00m\n\u001b[1;32m----> 2\u001b[0m \u001b[38;5;28;01mimport\u001b[39;00m \u001b[38;5;21;01mtensorflow\u001b[39;00m \u001b[38;5;28;01mas\u001b[39;00m \u001b[38;5;21;01mtf\u001b[39;00m\n\u001b[0;32m      3\u001b[0m device_name \u001b[38;5;241m=\u001b[39m tf\u001b[38;5;241m.\u001b[39mtest\u001b[38;5;241m.\u001b[39mgpu_device_name()\n\u001b[0;32m      4\u001b[0m \u001b[38;5;28;01mif\u001b[39;00m device_name \u001b[38;5;241m!=\u001b[39m \u001b[38;5;124m'\u001b[39m\u001b[38;5;124m/device:GPU:0\u001b[39m\u001b[38;5;124m'\u001b[39m:\n",
            "\u001b[1;31mModuleNotFoundError\u001b[0m: No module named 'tensorflow'"
          ]
        }
      ],
      "source": [
        "#@title Esto es un formulario\n",
        "import tensorflow as tf\n",
        "device_name = tf.test.gpu_device_name()\n",
        "if device_name != '/device:GPU:0':\n",
        "  raise SystemError('GPU no encontrada')\n",
        "print('Encontrada GPU: {}'.format(device_name))"
      ]
    },
    {
      "cell_type": "code",
      "execution_count": 7,
      "metadata": {
        "colab": {
          "base_uri": "https://localhost:8080/"
        },
        "id": "yQcFKCvPz6it",
        "outputId": "3a9a9428-989f-4447-8cc0-5d9d5538d034"
      },
      "outputs": [
        {
          "name": "stdout",
          "output_type": "stream",
          "text": [
            "Python 3.12.2\n"
          ]
        },
        {
          "data": {
            "text/plain": [
              "sys.version_info(major=3, minor=12, micro=2, releaselevel='final', serial=0)"
            ]
          },
          "execution_count": 7,
          "metadata": {},
          "output_type": "execute_result"
        }
      ],
      "source": [
        "!python --version\n",
        "\n",
        "import sys\n",
        "(sys.version_info)"
      ]
    },
    {
      "cell_type": "code",
      "execution_count": 8,
      "metadata": {},
      "outputs": [
        {
          "name": "stdout",
          "output_type": "stream",
          "text": [
            "Python 3.12.2\n"
          ]
        }
      ],
      "source": [
        "!python --version\n",
        "\n"
      ]
    },
    {
      "cell_type": "markdown",
      "metadata": {
        "id": "Dr4-z8Z-xv4s"
      },
      "source": [
        "---\n",
        "<font color=\"#004D7F\" size=8 style=\"font-family:Verdana;\">Integración con Google Drive</font>"
      ]
    },
    {
      "cell_type": "markdown",
      "metadata": {},
      "source": [
        "<font color=\"#008000\" size=3 style=\"font-family:Verdana;\">Este ejemplo solo es para usarlo con google colab, por eso da fallo en visual studio, por que no tenemos hecha la integracion con Google Drive desde visual stuadio</font> "
      ]
    },
    {
      "cell_type": "markdown",
      "metadata": {
        "id": "KeiV8dVPxv4t"
      },
      "source": [
        "En `Colab` para leer archivos de tu cuenta de google drive debes seguir los siguientes pasos:\n",
        "* [1] Debes de montar la carpeta que quieres leer como unidad\n",
        "* [2] Necesitas importar la biblioteca drive en el notebook\n",
        "* [3] Especificar la ruta de tu archivo."
      ]
    },
    {
      "cell_type": "code",
      "execution_count": 3,
      "metadata": {
        "id": "uWyQfNNYxv4t"
      },
      "outputs": [
        {
          "ename": "ModuleNotFoundError",
          "evalue": "No module named 'google'",
          "output_type": "error",
          "traceback": [
            "\u001b[1;31m---------------------------------------------------------------------------\u001b[0m",
            "\u001b[1;31mModuleNotFoundError\u001b[0m                       Traceback (most recent call last)",
            "Cell \u001b[1;32mIn[3], line 2\u001b[0m\n\u001b[0;32m      1\u001b[0m \u001b[38;5;66;03m# Vamos a importamos la biblioteca drive para montar la unidad\u001b[39;00m\n\u001b[1;32m----> 2\u001b[0m \u001b[38;5;28;01mfrom\u001b[39;00m \u001b[38;5;21;01mgoogle\u001b[39;00m\u001b[38;5;21;01m.\u001b[39;00m\u001b[38;5;21;01mcolab\u001b[39;00m \u001b[38;5;28;01mimport\u001b[39;00m drive\n",
            "\u001b[1;31mModuleNotFoundError\u001b[0m: No module named 'google'"
          ]
        }
      ],
      "source": [
        "# Vamos a importamos la biblioteca drive para montar la unidad\n",
        "from google.colab import drive"
      ]
    },
    {
      "cell_type": "code",
      "execution_count": 3,
      "metadata": {
        "id": "s6HAsRtrxv4u"
      },
      "outputs": [
        {
          "ename": "NameError",
          "evalue": "name 'drive' is not defined",
          "output_type": "error",
          "traceback": [
            "\u001b[1;31m---------------------------------------------------------------------------\u001b[0m",
            "\u001b[1;31mNameError\u001b[0m                                 Traceback (most recent call last)",
            "Cell \u001b[1;32mIn[3], line 2\u001b[0m\n\u001b[0;32m      1\u001b[0m \u001b[38;5;66;03m# Montamos la carpeta o directorio al que queremos acceder\u001b[39;00m\n\u001b[1;32m----> 2\u001b[0m drive\u001b[38;5;241m.\u001b[39mmount(\u001b[38;5;124m'\u001b[39m\u001b[38;5;124m/content/drive\u001b[39m\u001b[38;5;124m'\u001b[39m)\n",
            "\u001b[1;31mNameError\u001b[0m: name 'drive' is not defined"
          ]
        }
      ],
      "source": [
        "# Montamos la carpeta o directorio al que queremos acceder\n",
        "drive.mount('/content/drive')"
      ]
    },
    {
      "cell_type": "markdown",
      "metadata": {
        "id": "vwUgRyAlxv4u"
      },
      "source": [
        "Esta acción solicitará confirmar la cuenta a la que quieres acceder, tras esto, nos solicitará aceptar el acuerdo de confiabilidad, donde básicamente se te informan todas las operaciones que se podrán realizar con esta confirmación.\n",
        "\n",
        "Después de conceder los permisos, te aparecerá el siguiente mensaje que nos confirmará que hemos conectado el notebook con nuestro directorio de Google Drive:\n",
        "\n",
        "> `Mounted at /content/drive`"
      ]
    },
    {
      "cell_type": "markdown",
      "metadata": {
        "id": "4Y-dCWTuxv4u"
      },
      "source": [
        "Para buscar la ubicación exacta de tu archivo, la forma más fácil de encontrar la ruta es navegando por el árbol de directorios de Drive.\n",
        "\n",
        "Así accedemos a través del menú de la barra lateral izquierda.\n",
        "Los archivos de tu Drive se encuentran en la ruta <b>content -> drive -> MyDrive ...</b> o similar.\n",
        "\n",
        "Una vez localizado tu archivo, puedes desplegar el menú emergente y simplemente deberás copiar la ruta de acceso.\n",
        "<br>\n",
        "¡¡Ya puedes asignar esta ruta a una variable para leer el archivo.!!\n",
        "\n",
        "Aquí vemos un ejemplo de como leer un archivo txt almacenado en mi drive de google."
      ]
    },
    {
      "cell_type": "code",
      "execution_count": 4,
      "metadata": {
        "colab": {
          "base_uri": "https://localhost:8080/"
        },
        "id": "Bk-y0xQvxv4v",
        "outputId": "a720805f-aa3b-4324-acdb-3a9d821799be"
      },
      "outputs": [
        {
          "ename": "FileNotFoundError",
          "evalue": "[Errno 2] No such file or directory: '/content/drive/MyDrive/archivocolab.txt'",
          "output_type": "error",
          "traceback": [
            "\u001b[1;31m---------------------------------------------------------------------------\u001b[0m",
            "\u001b[1;31mFileNotFoundError\u001b[0m                         Traceback (most recent call last)",
            "Cell \u001b[1;32mIn[4], line 7\u001b[0m\n\u001b[0;32m      1\u001b[0m \u001b[38;5;66;03m# Vamos a leer un archivo txt almacenado como ejemplo en nuestro drive de google.\u001b[39;00m\n\u001b[0;32m      2\u001b[0m \u001b[38;5;66;03m# Para ello vamos a disponibilizar en la ruta /Master_Kschool/ de nuestro Google Drive el archivo archivo.txt con el siguiente texto \"Kschool Rock&Roll!\".\u001b[39;00m\n\u001b[0;32m      3\u001b[0m \n\u001b[0;32m      4\u001b[0m \u001b[38;5;66;03m# Usar el fichero.\u001b[39;00m\n\u001b[0;32m      5\u001b[0m path \u001b[38;5;241m=\u001b[39m \u001b[38;5;124m'\u001b[39m\u001b[38;5;124m/content/drive/MyDrive/archivocolab.txt\u001b[39m\u001b[38;5;124m'\u001b[39m\n\u001b[1;32m----> 7\u001b[0m \u001b[38;5;28;01mwith\u001b[39;00m \u001b[38;5;28mopen\u001b[39m(path) \u001b[38;5;28;01mas\u001b[39;00m fichero: \u001b[38;5;66;03m# Se cerrará automáticamente al salir del bloque with\u001b[39;00m\n\u001b[0;32m      8\u001b[0m   \u001b[38;5;28;01mfor\u001b[39;00m linea \u001b[38;5;129;01min\u001b[39;00m fichero:\n\u001b[0;32m      9\u001b[0m     \u001b[38;5;28mprint\u001b[39m(linea)\n",
            "File \u001b[1;32mc:\\Users\\jmamo\\anaconda3\\envs\\Kschool\\Lib\\site-packages\\IPython\\core\\interactiveshell.py:310\u001b[0m, in \u001b[0;36m_modified_open\u001b[1;34m(file, *args, **kwargs)\u001b[0m\n\u001b[0;32m    303\u001b[0m \u001b[38;5;28;01mif\u001b[39;00m file \u001b[38;5;129;01min\u001b[39;00m {\u001b[38;5;241m0\u001b[39m, \u001b[38;5;241m1\u001b[39m, \u001b[38;5;241m2\u001b[39m}:\n\u001b[0;32m    304\u001b[0m     \u001b[38;5;28;01mraise\u001b[39;00m \u001b[38;5;167;01mValueError\u001b[39;00m(\n\u001b[0;32m    305\u001b[0m         \u001b[38;5;124mf\u001b[39m\u001b[38;5;124m\"\u001b[39m\u001b[38;5;124mIPython won\u001b[39m\u001b[38;5;124m'\u001b[39m\u001b[38;5;124mt let you open fd=\u001b[39m\u001b[38;5;132;01m{\u001b[39;00mfile\u001b[38;5;132;01m}\u001b[39;00m\u001b[38;5;124m by default \u001b[39m\u001b[38;5;124m\"\u001b[39m\n\u001b[0;32m    306\u001b[0m         \u001b[38;5;124m\"\u001b[39m\u001b[38;5;124mas it is likely to crash IPython. If you know what you are doing, \u001b[39m\u001b[38;5;124m\"\u001b[39m\n\u001b[0;32m    307\u001b[0m         \u001b[38;5;124m\"\u001b[39m\u001b[38;5;124myou can use builtins\u001b[39m\u001b[38;5;124m'\u001b[39m\u001b[38;5;124m open.\u001b[39m\u001b[38;5;124m\"\u001b[39m\n\u001b[0;32m    308\u001b[0m     )\n\u001b[1;32m--> 310\u001b[0m \u001b[38;5;28;01mreturn\u001b[39;00m io_open(file, \u001b[38;5;241m*\u001b[39margs, \u001b[38;5;241m*\u001b[39m\u001b[38;5;241m*\u001b[39mkwargs)\n",
            "\u001b[1;31mFileNotFoundError\u001b[0m: [Errno 2] No such file or directory: '/content/drive/MyDrive/archivocolab.txt'"
          ]
        }
      ],
      "source": [
        "# Vamos a leer un archivo txt almacenado como ejemplo en nuestro drive de google.\n",
        "# Para ello vamos a disponibilizar en la ruta /Master_Kschool/ de nuestro Google Drive el archivo archivo.txt con el siguiente texto \"Kschool Rock&Roll!\".\n",
        "\n",
        "# Usar el fichero.\n",
        "path = '/content/drive/MyDrive/archivocolab.txt'\n",
        "\n",
        "with open(path) as fichero: # Se cerrará automáticamente al salir del bloque with\n",
        "  for linea in fichero:\n",
        "    print(linea)"
      ]
    },
    {
      "cell_type": "markdown",
      "metadata": {
        "id": "I20PKe0hxv4v"
      },
      "source": [
        "> Dicho ejemplo es simplemente para que veais como se hace. No es necesario que lo ejecutéis."
      ]
    },
    {
      "cell_type": "markdown",
      "metadata": {
        "id": "2sX1-BqYxv4v"
      },
      "source": [
        "### Leer archivos alojados en tu disco\n",
        "Para acceder a archivos de tu disco local puedes obtener la ruta en el mismo menú lateral en el icono de cargar archivos (flecha que apunta hacia arriba) de la barra superior del mismo menú; copiar la ruta y seguir las mismas instrucciones."
      ]
    },
    {
      "cell_type": "markdown",
      "metadata": {
        "id": "oS7rf2Mexv4v"
      },
      "source": [
        "---\n",
        "<a id=\"bloque2\"></a>\n",
        "<font color=\"#004D7F\" size=8 style=\"font-family:Verdana;\">Markdown</font>"
      ]
    },
    {
      "cell_type": "markdown",
      "metadata": {
        "id": "9YZrXO-_xv4w"
      },
      "source": [
        "`Markdown` es un lenguaje de marcado ligero creado por **John Gruber en 2004**, diseñado para ser fácil de leer y escribir.\n",
        "\n",
        "Su principal objetivo es permitir que las personas escriban texto en un formato sencillo y legible, que luego se puede convertir a HTML u otros formatos de salida. Markdown es ampliamente utilizado para documentación de contenido programático, el formato de mensajes en foros y chats en línea, la escritura de blogs y más.\n",
        "\n",
        "La sintaxis de Markdown es simple y utiliza caracteres de puntuación y símbolos comunes para indicar la estructura y el formato del texto.\n",
        "\n",
        "Por ejemplo, se pueden crear encabezados usando símbolos #, texto en negrita rodeándolo con **, y enlaces utilizando corchetes [] y paréntesis (), todo esto lo veremos a continuación."
      ]
    },
    {
      "cell_type": "markdown",
      "metadata": {},
      "source": [
        "<font color=\" #FFA500\" size=4 style=\"font-family:Verdana;\">TODAS ESTAS REGLAS SON MARKDOWN, NO ES CÓDIGO</font> "
      ]
    },
    {
      "cell_type": "markdown",
      "metadata": {},
      "source": [
        "---\n",
        "<font color=\"#004D7F\" size=6 style=\"font-family:Verdana;\">Encabezados <font color=\"#008000\" size=3 style=\"font-family:Verdana;\">para mi seriían en Html, los H1, H2, H3,...</font> </font>"
      ]
    },
    {
      "cell_type": "markdown",
      "metadata": {
        "id": "n3ygjXQGxv4w"
      },
      "source": [
        "# Encabezado 1\n",
        "## Encabezado 2\n",
        "### Encabezado 3\n",
        "#### Encabezado 4\n",
        "##### Encabezado 5\n",
        "###### Encabezado 6"
      ]
    },
    {
      "cell_type": "markdown",
      "metadata": {},
      "source": [
        "---\n",
        "\n",
        "<font color=\"#004D7F\" size=6 style=\"font-family:Verdana;\">Formato de texto <font color=\"#008000\" size=4 style=\"font-family:Verdana;\">Tenemos que meter los signos para darle formato</font> </font>"
      ]
    },
    {
      "cell_type": "markdown",
      "metadata": {
        "id": "_ibmjMmgxv4w"
      },
      "source": [
        "**Texto en negrita**\n",
        "\n",
        "*Texto en cursiva*\n",
        "\n",
        "~~Texto tachado~~, pero este no está tachado\n",
        "\n",
        "~~hola mundo~~ "
      ]
    },
    {
      "cell_type": "markdown",
      "metadata": {},
      "source": [
        "---\n",
        "<font color=\"#004D7F\" size=6 style=\"font-family:Verdana;\">Enlaces</font>"
      ]
    },
    {
      "cell_type": "markdown",
      "metadata": {
        "id": "HDigj29uxv4w"
      },
      "source": [
        "[Texto del enlace](https://www.example.com)\n",
        "\n",
        "[Ancla a parte del código (Nos lleva a la parte del código del título Markdown)](#bloque2)"
      ]
    },
    {
      "cell_type": "markdown",
      "metadata": {},
      "source": [
        "---\n",
        "<font color=\"#004D7F\" size=6 style=\"font-family:Verdana;\">Imágenes</font>"
      ]
    },
    {
      "cell_type": "markdown",
      "metadata": {
        "id": "z_35CegGthDv"
      },
      "source": [
        "Lectura desde un archivo de texto en internet:<br>\n",
        "Opción 1"
      ]
    },
    {
      "cell_type": "markdown",
      "metadata": {
        "id": "niOwuppRxv4w"
      },
      "source": [
        "![Imagen de Kschool](https://nachocarnes.es/wp-content/uploads/2018/04/ejWGXui6_400x400.png)"
      ]
    },
    {
      "cell_type": "markdown",
      "metadata": {
        "id": "4fOpxK_QthDv"
      },
      "source": [
        "Opción 2"
      ]
    },
    {
      "cell_type": "markdown",
      "metadata": {
        "id": "1P_-8HQgxv4w"
      },
      "source": [
        "<center><img src=\"https://nachocarnes.es/wp-content/uploads/2018/04/ejWGXui6_400x400.png\" alt=\"Drawing\" style=\"align=left\"/>"
      ]
    },
    {
      "cell_type": "markdown",
      "metadata": {
        "id": "P8CD-NRsxv4w"
      },
      "source": [
        "El atributo `<img> align` se utiliza para establecer la alineación de una imagen.\n",
        "\n",
        "Es un elemento en línea. Sirve para especificar la alineación de la imagen según los elementos circundantes.\n",
        "Posible opciones --> align=`left|right|middle|top|bottom`"
      ]
    },
    {
      "cell_type": "markdown",
      "metadata": {},
      "source": [
        "---\n",
        "<font color=\"#004D7F\" size=6 style=\"font-family:Verdana;\">Carga desde Git (Imágenes)</font>"
      ]
    },
    {
      "cell_type": "markdown",
      "metadata": {
        "id": "MN-WlAZGE8HX"
      },
      "source": [
        "![Imagen de Github](https://github.com/emunozlorenzo/DataCopCrimePrediction/blob/master/img/dataCopBlue.JPG?raw=true)"
      ]
    },
    {
      "cell_type": "markdown",
      "metadata": {},
      "source": [
        "---\n",
        "<font color=\"#004D7F\" size=6 style=\"font-family:Verdana;\">Carga desde Git (Repositorios)</font>"
      ]
    },
    {
      "cell_type": "code",
      "execution_count": null,
      "metadata": {
        "id": "UJYeQ9jUIOKf",
        "outputId": "9b554752-c846-45e6-98e6-27fecb95f113"
      },
      "outputs": [
        {
          "name": "stdout",
          "output_type": "stream",
          "text": [
            "Cloning into 'DataCopCrimePrediction'...\n",
            "remote: Enumerating objects: 367, done.\u001b[K\n",
            "remote: Counting objects: 100% (96/96), done.\u001b[K\n",
            "remote: Compressing objects: 100% (66/66), done.\u001b[K\n",
            "remote: Total 367 (delta 55), reused 58 (delta 30), pack-reused 271\u001b[K\n",
            "Receiving objects: 100% (367/367), 14.71 MiB | 21.93 MiB/s, done.\n",
            "Resolving deltas: 100% (188/188), done.\n"
          ]
        }
      ],
      "source": [
        "!git clone https://github.com/emunozlorenzo/DataCopCrimePrediction.git"
      ]
    },
    {
      "cell_type": "markdown",
      "metadata": {},
      "source": [
        "---\n",
        "<font color=\"#004D7F\" size=6 style=\"font-family:Verdana;\">Listas</font>"
      ]
    },
    {
      "cell_type": "markdown",
      "metadata": {
        "id": "R_MfxbEXxv4w"
      },
      "source": [
        "Listas sin orden\n",
        "\n",
        "* Elemento 1\n",
        "- Elemento 2\n",
        "  - Subelemento 2.1\n",
        "  - Subelemento 2.2\n",
        "- Elemento 3\n"
      ]
    },
    {
      "cell_type": "markdown",
      "metadata": {
        "id": "r_XtNxSHxv4x"
      },
      "source": [
        "Listas ordenadas:\n",
        "\n",
        "1. Elemento 1\n",
        "2. Elemento 2\n",
        "3. Elemento 3"
      ]
    },
    {
      "cell_type": "markdown",
      "metadata": {},
      "source": [
        "---\n",
        "<font color=\"#004D7F\" size=6 style=\"font-family:Verdana;\">Citas</font>"
      ]
    },
    {
      "cell_type": "markdown",
      "metadata": {
        "id": "CfsYv-NTxv4x"
      },
      "source": [
        "> Esto es una cita."
      ]
    },
    {
      "cell_type": "markdown",
      "metadata": {},
      "source": [
        "---\n",
        "<font color=\"#004D7F\" size=6 style=\"font-family:Verdana;\">Código como texto (Linea y Bloques)</font>"
      ]
    },
    {
      "cell_type": "markdown",
      "metadata": {
        "id": "M063onqOxv4x"
      },
      "source": [
        "Código en línea:\n",
        "\n",
        "`código`\n",
        "\n",
        "Bloques de código:\n",
        "\n",
        "<pre>\n",
        "```\n",
        "def function():\n",
        "  pass\n",
        "  asdfsadf\n",
        "  sad\n",
        "  fsa\n",
        "  dfsadfsadfa\n",
        "\n",
        "asdfasfasdf\n",
        "```\n",
        "</pre>"
      ]
    },
    {
      "cell_type": "markdown",
      "metadata": {},
      "source": [
        "---\n",
        "<font color=\"#004D7F\" size=6 style=\"font-family:Verdana;\">Tablas</font>"
      ]
    },
    {
      "cell_type": "markdown",
      "metadata": {
        "id": "fPkkmlt3xv4x"
      },
      "source": [
        "| Encabezado 1 | Encabezado 2 | Encabezado 3 |\n",
        "|--------------|--------------|--------------|\n",
        "| Celda 1.1    | Celda 1.2    | Celda 1.3    |\n",
        "| Celda 2.1    | Celda 2.2    | Celda 2.3    |"
      ]
    },
    {
      "cell_type": "markdown",
      "metadata": {},
      "source": [
        "---\n",
        "<font color=\"#004D7F\" size=6 style=\"font-family:Verdana;\">Separadores horizontales</font>"
      ]
    },
    {
      "cell_type": "markdown",
      "metadata": {
        "id": "J-dg063Kxv4x"
      },
      "source": [
        "---"
      ]
    },
    {
      "cell_type": "markdown",
      "metadata": {},
      "source": [
        "---\n",
        "<font color=\"#004D7F\" size=6 style=\"font-family:Verdana;\">Tareas Checks</font>"
      ]
    },
    {
      "cell_type": "markdown",
      "metadata": {
        "id": "lVpiD9fYxv4x"
      },
      "source": [
        "- [  ] Tarea pendiente\n",
        "- [x] Tarea completada"
      ]
    },
    {
      "cell_type": "markdown",
      "metadata": {},
      "source": [
        "---\n",
        "<font color=\"#004D7F\" size=6 style=\"font-family:Verdana;\">Cambio de color</font>"
      ]
    },
    {
      "cell_type": "markdown",
      "metadata": {},
      "source": [
        "Gracias a la sintaxis de HTML podemos variar el formato de nuestro texto, enunciados, etc. Algo muy visual para segmentar la tipología de nuestros parráfos de títulos puede ser modificar el color, tamaño, posición..."
      ]
    },
    {
      "cell_type": "markdown",
      "metadata": {},
      "source": [
        "<p  style=\"text-align: center;ont-family:Verdana;\"><font color=\"#228B22\" size=5\">He cambiado de tamaño, color y posición</font>"
      ]
    },
    {
      "cell_type": "markdown",
      "metadata": {},
      "source": [
        "---\n",
        "<font color=\"#004D7F\" size=6 style=\"font-family:Verdana;\">Formulas (LateX)</font>"
      ]
    },
    {
      "cell_type": "markdown",
      "metadata": {
        "id": "evFBnCQixv4x"
      },
      "source": [
        "Es un sistema de composición de textos, orientado a la creación de documentos escritos que presenten una alta calidad tipográfica. Por sus características y posibilidades, es usado de forma especialmente intensa en la generación de artículos y libros científicos que incluyen, entre otros elementos, expresiones matemáticas."
      ]
    },
    {
      "cell_type": "markdown",
      "metadata": {
        "id": "fK186rNnxv4x"
      },
      "source": [
        "$ \\hat{d}=\\frac{(d+n)!}{n!\\,d!} $\n",
        "\n",
        "$\\int_0^1 {x^2} \\,{\\rm d}x$\n",
        "\n",
        "$1,2,\\ldots,n$"
      ]
    },
    {
      "cell_type": "markdown",
      "metadata": {
        "id": "IhrGPz0Nxv4x"
      },
      "source": [
        "#### **Aquí os añado la referencia a una pagina donde podéis encontrar muchos más ejemplos:**\n",
        "1. https://daringfireball.net/projects/markdown/basics\n",
        "2. https://programmerclick.com/article/9139292621/"
      ]
    },
    {
      "cell_type": "markdown",
      "metadata": {
        "id": "5xSnLzFwthD5"
      },
      "source": [
        "\n",
        "---\n",
        "<br>\n",
        "<center>\n",
        "    <h2><font color=\"#004D7F\" size=6 style=\"text-align:center;font-family:Verdana;\"><u>¡¡Manos al teclado!!<br>¡¡Lets Code!!</u></font>"
      ]
    },
    {
      "cell_type": "markdown",
      "metadata": {
        "id": "ztQugXe9xv4x"
      },
      "source": [
        "<center><img style=\"text-align: center;width: 700px\" src=\"https://raw.githubusercontent.com/0xdevgranero/kschool/main/imgs/superprogrammer.gif\" alt=\"challenge\"></center>"
      ]
    },
    {
      "cell_type": "markdown",
      "metadata": {
        "id": "pueZdc9sxv4y"
      },
      "source": [
        "<font color=\"#004D7F\" size=5 style=\"font-family:Verdana;\">**Enunciado Ejercicio 1**::</font>\n",
        "\n",
        "Utiliza la sintaxis de Markdown para crear encabezados de nivel 1, 2 y 4 con los siguientes textos:\n",
        "- Curso de Python\n",
        "- Tema: Markdown\n",
        "- Escuela Kschool"
      ]
    },
    {
      "cell_type": "markdown",
      "metadata": {},
      "source": [
        "# Curso de Python -> <font color=\" #008000\" size=3 style=\"font-family:Verdana;\">Es un encabezado de nivel 1</font> \n",
        "## Tema: Markdown -> <font color=\" #008000\" size=3 style=\"font-family:Verdana;\">Es un encabezado de nivel 2</font> \n",
        "#### Escuela Kschool -> <font color=\" #008000\" size=3 style=\"font-family:Verdana;\">Es un encabezado de nivel 4</font> "
      ]
    },
    {
      "cell_type": "markdown",
      "metadata": {
        "id": "TpSayvlSxv4y"
      },
      "source": [
        "<font color=\"#004D7F\" size=5 style=\"font-family:Verdana;\">**Enunciado Ejercicio 2**::</font>\n",
        "\n",
        "Inserta un enlace a la documentación oficial de Python y, a continuación, inserta una imagen de la serpiente Python con su respectivo enlace de origen."
      ]
    },
    {
      "cell_type": "markdown",
      "metadata": {},
      "source": [
        "[Texto de enlace a la documentación de Python](https://docs.python.org/es/3/)\n",
        "\n",
        "[Texto de enlace de una imagen de una piton](https://static.nationalgeographic.es/files/styles/image_3200/public/01-python-NationalGeographic_1770253.webp?w=1450&h=816)\n",
        "\n",
        "![Imagen de python](https://static.nationalgeographic.es/files/styles/image_3200/public/01-python-NationalGeographic_1770253.webp?w=1450&h=816)"
      ]
    },
    {
      "cell_type": "markdown",
      "metadata": {
        "id": "WBaDvCA_xv4y"
      },
      "source": [
        "<font color=\"#228B22\" size=5 style=\"font-family:Verdana;\">**Enunciado Ejercicio 3**::</font>\n",
        "\n",
        "Resalta en negrita la palabra \"Python\" y en cursiva la palabra \"Markdown\" en la siguiente frase:\n",
        "\"Python es un lenguaje de programación de alto nivel, mientras que Markdown es un lenguaje de marcado ligero.\""
      ]
    },
    {
      "cell_type": "markdown",
      "metadata": {},
      "source": [
        "**Python**-><font color=\" #008000\" size=3 style=\"font-family:Verdana;\">Con ** al principio y dos al final tenemos una palabra en negrita </font> \n",
        "\n",
        "*Markdown* <font color=\" #008000\" size=3 style=\"font-family:Verdana;\">Con * al principio y otro al final tenemos una palabra en cursiva </font>\n",
        "\n",
        "**Python** es un lenguaje de programación de alto nivel, mientras que *Markdown* es un lenguaje de marcado ligero."
      ]
    },
    {
      "cell_type": "markdown",
      "metadata": {
        "id": "DbDHmqZxxv4y"
      },
      "source": [
        "<font color=\"#228B22\" size=5 style=\"font-family:Verdana;\">**Enunciado Ejercicio 4**::</font>\n",
        "\n",
        "Escribe una lista numerada con los siguientes elementos y, a continuación, crea una lista con unas palabras de lo que creas que significa cada elemento\n",
        "\n",
        "- Variables\n",
        "- Condicionales\n",
        "- Bucles\n"
      ]
    },
    {
      "cell_type": "markdown",
      "metadata": {},
      "source": [
        "<center><h1 style=\"text-align: center;\"><u>ULTIMO EJERCICIO DE ESTE MODULO</u></h1>\n",
        "<p style=\"text-align:center;font-family:Verdana;\">\n",
        "    <h2>El objetivo de este ejercicio es:</h2>\n",
        "    - Escribe una lista numerada con los siguientes elementos y, a continuación, crea una lista con unas palabras de lo que creas que significa cada elemento.\n",
        "</p>\n",
        "\n",
        "<img style=\"text-align: center;width: 300px\" src=\"https://upload.wikimedia.org/wikipedia/commons/thumb/c/c3/Python-logo-notext.svg/115px-Python-logo-notext.svg.png\" alt=\"logo\"></center>\n",
        "<br>\n",
        "\n",
        "---\n",
        "---\n",
        "<style>\n",
        "\n",
        ".imagen-estilizada {\n",
        "    text-align: center;/* Alineado al centro */\n",
        "    width: 300px;/* tamaño*/\n",
        "    border-radius: 50%; /* Borde redondeado */\n",
        "    border: 2px solid FF0000#; /* Borde de color rojo */\n",
        "    box-shadow: 0 0 10px rgba(0, 0, 0, 0.5); /* Sombra */\n",
        "}\n",
        "</style>\n",
        "\n",
        "![Imagen de logo Python](https://upload.wikimedia.org/wikipedia/commons/thumb/c/c3/Python-logo-notext.svg/115px-Python-logo-notext.svg.png){: .imagen-estilizada }\n",
        "\n",
        "\n",
        "1. Elemento 1 **Documentacion de Python** -> [Enlace de la documentacion](https://docs.python.org/es/3/contents.html) \n",
        "\n",
        "2. Elemento 2 **Variable** [Enlace a la definicion](https://elpythonista.com/variables-python) -> <font color=\"#228B22\" size=2 style=\"font-family:Verdana;\">**Variables en Python:**</font><p>En Python, las variables son contenedores que se utilizan para almacenar valores de datos.En Python, las variables son contenedores que se utilizan para almacenar valores de datos.</p>\n",
        "3. Elemento 3 **Condicionales** [Enlace a la definicion](https://datascientest.com/es/python-if-else) -> <font color=\"#228B22\" size=2 style=\"font-family:Verdana;\">**Condicionales  en Python:**</font><p> En Python, los condicionales se utilizan para tomar decisiones basadas en ciertas condiciones. Los condicionales más comunes son los de tipo \"si... entonces... sino...\". (if... else... elif o else if...)</p>\n",
        "4. Elemento 4 **Bucles** [Enlace a la definicion](https://tutorial.recursospython.com/bucles/) -> <font color=\"#228B22\" size=2 style=\"font-family:Verdana;\">**Bucles  en Python:**</font><p> En Python, puedes utilizar bucles para ejecutar un bloque de código repetidamente. Hay dos tipos principales de bucles en Python: el bucle for y el bucle while. [Aquí](https://tutorial.recursospython.com/bucles/) podemos encontrar un tutorial de bucles. </P>"
      ]
    }
  ],
  "metadata": {
    "accelerator": "GPU",
    "colab": {
      "gpuType": "T4",
      "provenance": [],
      "toc_visible": true
    },
    "kernelspec": {
      "display_name": "Python 3",
      "name": "python3"
    },
    "language_info": {
      "codemirror_mode": {
        "name": "ipython",
        "version": 3
      },
      "file_extension": ".py",
      "mimetype": "text/x-python",
      "name": "python",
      "nbconvert_exporter": "python",
      "pygments_lexer": "ipython3",
      "version": "3.12.2"
    },
    "orig_nbformat": 4
  },
  "nbformat": 4,
  "nbformat_minor": 0
}
