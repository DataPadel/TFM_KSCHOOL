{
 "cells": [
  {
   "cell_type": "code",
   "execution_count": null,
   "metadata": {},
   "outputs": [],
   "source": [
    "import pandas as pd\n",
    "\n",
    "# Ruta del archivo CSV\n",
    "csv_file_path = r'C:\\Users\\Luis\\Documents\\GitHub\\TFM_KSCHOOL\\Luis\\PreModelado_TFM_Palas\\Noviembre\\PreModelado_Palas\\archivos_accesorios\\caracteristicas_palas_padel.csv'\n",
    "\n",
    "# Leer el archivo CSV y convertirlo en un DataFrame\n",
    "try:\n",
    "    df = pd.read_csv(csv_file_path)\n",
    "    \n",
    "    # Mostrar los primeros 20 registros del DataFrame\n",
    "    print(df.head(20))\n",
    "except FileNotFoundError:\n",
    "    print(\"Error: El archivo no se encontró.\")"
   ]
  },
  {
   "cell_type": "code",
   "execution_count": null,
   "metadata": {},
   "outputs": [],
   "source": [
    "import pandas as pd\n",
    "import ast\n",
    "\n",
    "# Función para procesar cada fila del DataFrame y expandirla\n",
    "def procesar_fila(fila):\n",
    "    # Convertir el string en un diccionario\n",
    "    fila_dict = ast.literal_eval(fila)\n",
    "    producto_data = fila_dict['producto']\n",
    "    \n",
    "    # Transformar las características en un diccionario\n",
    "    caracteristicas_dict = {item['nombre']: item['valor'] for item in producto_data.pop('caracteristicas')}\n",
    "    \n",
    "    # Unir las características con los demás datos\n",
    "    producto_data.update(caracteristicas_dict)\n",
    "    return producto_data\n",
    "\n",
    "# Aplicar la función a cada fila del DataFrame\n",
    "df_expandido = pd.DataFrame(df['data'].apply(procesar_fila).tolist())\n",
    "\n",
    "# Mostrar el resultado\n",
    "print(df_expandido)\n"
   ]
  },
  {
   "cell_type": "code",
   "execution_count": null,
   "metadata": {},
   "outputs": [],
   "source": [
    "import pandas as pd\n",
    "\n",
    "# Ruta del archivo CSV\n",
    "csv_file_path = r'C:\\Users\\Luis\\Documents\\GitHub\\TFM_KSCHOOL\\Luis\\PreModelado_TFM_Palas\\Noviembre\\PreModelado_Palas\\PNpalas_DF_2.csv'\n",
    "\n",
    "# Leer el archivo CSV y convertirlo en un DataFrame\n",
    "try:\n",
    "    df2 = pd.read_csv(csv_file_path)\n",
    "    \n",
    "    # Mostrar los primeros 20 registros del DataFrame\n",
    "    print(df2.head(20))\n",
    "except FileNotFoundError:\n",
    "    print(\"Error: El archivo no se encontró.\")"
   ]
  },
  {
   "cell_type": "code",
   "execution_count": 15,
   "metadata": {},
   "outputs": [
    {
     "name": "stdout",
     "output_type": "stream",
     "text": [
      "El archivo 'PNpalas_DF_3.csv' se ha guardado correctamente.\n"
     ]
    }
   ],
   "source": [
    "# Guardar el DataFrame expandido como un archivo CSV\n",
    "df_expandido.to_csv(\"PNpalas_DF_3.csv\", index=False, encoding=\"utf-8\")\n",
    "\n",
    "print(\"El archivo 'PNpalas_DF_3.csv' se ha guardado correctamente.\")\n",
    "\n"
   ]
  },
  {
   "cell_type": "code",
   "execution_count": null,
   "metadata": {},
   "outputs": [],
   "source": [
    "import os\n",
    "\n",
    "# Obtener el directorio actual\n",
    "directorio_actual = os.getcwd()\n",
    "print(f\"Los archivos se están guardando en: {directorio_actual}\")\n"
   ]
  }
 ],
 "metadata": {
  "kernelspec": {
   "display_name": "Python 3",
   "language": "python",
   "name": "python3"
  },
  "language_info": {
   "codemirror_mode": {
    "name": "ipython",
    "version": 3
   },
   "file_extension": ".py",
   "mimetype": "text/x-python",
   "name": "python",
   "nbconvert_exporter": "python",
   "pygments_lexer": "ipython3",
   "version": "3.12.2"
  }
 },
 "nbformat": 4,
 "nbformat_minor": 2
}
