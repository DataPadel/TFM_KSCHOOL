{
 "cells": [
  {
   "cell_type": "code",
   "execution_count": 1,
   "metadata": {},
   "outputs": [
    {
     "name": "stdout",
     "output_type": "stream",
     "text": [
      "                         Palas    Precio        Marca            Color  \\\n",
      "0              HARLEM EUPHORIA   63,95 €      No data     negro, verde   \n",
      "1    VARLION LW DIFUSOR W 2021  149,95 €      varlion      negro, rosa   \n",
      "2  DUNLOP BOOST LITE 2.0 WOMAN  109,00 €  black crown      negro, azul   \n",
      "3    BLACK CROWN PITON 11 2023   86,95 €       dunlop             rosa   \n",
      "4           SIUX FURTIVE PRO 2   62,95 €         siux  negro, amarillo   \n",
      "\n",
      "  Producto      Balance    Nucleo                      Cara   Dureza  \\\n",
      "0    palas  alto, medio  soft eva                   No data  No data   \n",
      "1    palas         bajo  soft eva                   No data  No data   \n",
      "2    palas         bajo       eva  carbono, fibra de vidrio  No data   \n",
      "3    palas         bajo  soft eva           fibra de vidrio   blanda   \n",
      "4    palas        medio  soft eva           fibra de vidrio  No data   \n",
      "\n",
      "              Nivel de Juego  Acabado    Forma Superficie Tipo de Juego  \\\n",
      "0     avanzado / competición  No data  No data       lisa       No data   \n",
      "1     avanzado / competición  No data  redonda     rugosa       No data   \n",
      "2     avanzado / competición  No data  redonda       lisa       control   \n",
      "3  principiante / intermedio  No data  redonda     rugosa       control   \n",
      "4     avanzado / competición     mate  lágrima       lisa       No data   \n",
      "\n",
      "         Jugador  \n",
      "0  hombre, mujer  \n",
      "1  hombre, mujer  \n",
      "2  hombre, mujer  \n",
      "3          mujer  \n",
      "4  hombre, mujer  \n",
      "                         Palas    Precio        Marca            Color  \\\n",
      "0              HARLEM EUPHORIA   63,95 €      No data     negro, verde   \n",
      "1    VARLION LW DIFUSOR W 2021  149,95 €      varlion      negro, rosa   \n",
      "2  DUNLOP BOOST LITE 2.0 WOMAN  109,00 €  black crown      negro, azul   \n",
      "3    BLACK CROWN PITON 11 2023   86,95 €       dunlop             rosa   \n",
      "4           SIUX FURTIVE PRO 2   62,95 €         siux  negro, amarillo   \n",
      "\n",
      "  Producto      Balance    Nucleo                      Cara   Dureza  \\\n",
      "0    palas  alto, medio  soft eva                   No data  No data   \n",
      "1    palas         bajo  soft eva                   No data  No data   \n",
      "2    palas         bajo       eva  carbono, fibra de vidrio  No data   \n",
      "3    palas         bajo  soft eva           fibra de vidrio   blanda   \n",
      "4    palas        medio  soft eva           fibra de vidrio  No data   \n",
      "\n",
      "              Nivel de Juego  Acabado    Forma Superficie Tipo de Juego  \\\n",
      "0     avanzado / competición  No data  No data       lisa       No data   \n",
      "1     avanzado / competición  No data  redonda     rugosa       No data   \n",
      "2     avanzado / competición  No data  redonda       lisa       control   \n",
      "3  principiante / intermedio  No data  redonda     rugosa       control   \n",
      "4     avanzado / competición     mate  lágrima       lisa       No data   \n",
      "\n",
      "         Jugador  \n",
      "0  hombre, mujer  \n",
      "1  hombre, mujer  \n",
      "2  hombre, mujer  \n",
      "3          mujer  \n",
      "4  hombre, mujer  \n"
     ]
    }
   ],
   "source": [
    "import pandas as pd\n",
    "\n",
    "# Ruta al archivo CSV\n",
    "ruta_csv = r'C:\\Users\\Luis\\Documents\\GitHub\\TFM_KSCHOOL\\DataSets\\PNpalas_DF_2.csv'\n",
    "\n",
    "# Paso 1: Cargar el archivo CSV\n",
    "df = pd.read_csv(ruta_csv)\n",
    "\n",
    "# Paso 2: Verificar las primeras filas del DataFrame cargado para asegurarse de que todo está bien\n",
    "print(df.head())\n",
    "\n",
    "# Si necesitas realizar alguna transformación adicional (como cambiar nombres de columnas, limpieza de datos, etc.)\n",
    "# Aquí puedes agregar las transformaciones que necesites. Ejemplo de renombrar columnas:\n",
    "# df.rename(columns={'old_column_name': 'new_column_name'}, inplace=True)\n",
    "\n",
    "# Paso 3: Guardar el DataFrame en un nuevo archivo CSV (si deseas guardar el archivo procesado)\n",
    "df.to_csv(r'C:\\Users\\Luis\\Documents\\GitHub\\TFM_KSCHOOL\\DataSets\\PNpalas_DF_2_procesado.csv', index=False)\n",
    "\n",
    "# Ver las primeras filas del DataFrame final para confirmar que todo está correcto\n",
    "print(df.head())\n"
   ]
  },
  {
   "cell_type": "code",
   "execution_count": 2,
   "metadata": {},
   "outputs": [],
   "source": [
    "df = df.drop(['Producto', 'Acabado'], axis=1)\n"
   ]
  },
  {
   "cell_type": "code",
   "execution_count": 3,
   "metadata": {},
   "outputs": [
    {
     "data": {
      "text/plain": [
       "Palas             object\n",
       "Precio            object\n",
       "Marca             object\n",
       "Color             object\n",
       "Balance           object\n",
       "Nucleo            object\n",
       "Cara              object\n",
       "Dureza            object\n",
       "Nivel de Juego    object\n",
       "Forma             object\n",
       "Superficie        object\n",
       "Tipo de Juego     object\n",
       "Jugador           object\n",
       "dtype: object"
      ]
     },
     "execution_count": 3,
     "metadata": {},
     "output_type": "execute_result"
    }
   ],
   "source": [
    "df.dtypes"
   ]
  },
  {
   "cell_type": "code",
   "execution_count": 4,
   "metadata": {},
   "outputs": [
    {
     "data": {
      "text/plain": [
       "array(['No data', 'control', 'polivalente', 'potencia',\n",
       "       'control, potencia'], dtype=object)"
      ]
     },
     "execution_count": 4,
     "metadata": {},
     "output_type": "execute_result"
    }
   ],
   "source": [
    "df['Tipo de Juego'].unique()"
   ]
  },
  {
   "cell_type": "code",
   "execution_count": 5,
   "metadata": {},
   "outputs": [
    {
     "name": "stdout",
     "output_type": "stream",
     "text": [
      "     Balance\n",
      "0    No data\n",
      "1       bajo\n",
      "2       bajo\n",
      "3       bajo\n",
      "4      medio\n",
      "..       ...\n",
      "929    medio\n",
      "930    medio\n",
      "931     bajo\n",
      "932    medio\n",
      "933    medio\n",
      "\n",
      "[934 rows x 1 columns]\n"
     ]
    }
   ],
   "source": [
    "# Ver los valores únicos en la columna 'Balance'\n",
    "df['Balance'].unique()\n",
    "\n",
    "import pandas as pd\n",
    "\n",
    "# Suponiendo que ya tienes el DataFrame df\n",
    "# Ejemplo de cómo sería la columna Balance\n",
    "'''df['Balance'] = pd.DataFrame({\n",
    "    'Balance': ['alto, medio', 'bajo', 'medio', 'alto', 'medio, bajo', \n",
    "                'principiante / intermedio', 'No data', 'avanzado / competición, principiante / intermedio']\n",
    "})'''\n",
    "\n",
    "# Aplicamos la función lambda para transformar los valores\n",
    "df['Balance'] = df['Balance'].apply(lambda x: \n",
    "     x if x == 'medio' or x == 'alto' or x == 'bajo'                               \n",
    "    else 'medio' if 'principiante' in x or 'intermedio' in x \n",
    "    else 'alto' if 'avanzado' in x or 'competición' in x \n",
    "    else 'No data')\n",
    "\n",
    "# Ver el resultado\n",
    "print(df[['Balance']])\n",
    "\n",
    "\n"
   ]
  },
  {
   "cell_type": "code",
   "execution_count": 6,
   "metadata": {},
   "outputs": [],
   "source": [
    "'''df['Nucleo'] = pd.DataFrame({\n",
    "    'Nucleo': ['soft eva', 'eva', 'ultrasoft eva', 'hard eva', 'No data',\n",
    "       'black eva', 'medium eva', 'supersoft eva', 'foam', 'multieva',\n",
    "       'black eva hr3', 'eva, polietileno', 'black eva hr9',\n",
    "       'black eva, soft eva']\n",
    "})'''\n",
    "\n",
    "df['Nucleo'] = df['Nucleo'].apply(lambda x: \n",
    "    x if x == 'soft eva' or x == 'medium eva' or x == 'hard eva' or x == 'foam'\n",
    "    else 'soft eva' if 'ultrasoft eva' in x or 'black eva, soft eva' in x or 'supersoft eva' in x\n",
    "    else 'foam' if 'eva, polietileno' in x \n",
    "    else 'hard eva' if 'black eva hr9' in x \n",
    "    else 'medium eva' if 'black eva hr3' in x or 'eva' in x or 'multieva' in x\n",
    "    else 'No data'  # Para valores que no coincidan con ninguna condición\n",
    ")\n"
   ]
  },
  {
   "cell_type": "code",
   "execution_count": 7,
   "metadata": {},
   "outputs": [],
   "source": [
    "'''df['Cara'] = pd.DataFrame({\n",
    "    'Cara': ['No data', 'carbono, fibra de vidrio', 'fibra de vidrio',\n",
    "       'carbono 12k, fibra de vidrio', 'fibra de carbono',\n",
    "       'fibra de vidrio, carbono 15k']\n",
    "})'''\n",
    "\n",
    "\n",
    "df['Cara'] = df['Cara'].apply(lambda x: \n",
    "    x if x == 'fibra de carbono' or x == 'fibra de vidrio' \n",
    "    else 'mix' if 'carbono 12k, fibra de vidrio' in x or 'fibra de vidrio, carbono 15k' in x or 'carbono, fibra de vidrio' in x\n",
    "    else 'No data')"
   ]
  },
  {
   "cell_type": "code",
   "execution_count": 8,
   "metadata": {},
   "outputs": [],
   "source": [
    "'''df['Dureza'] = pd.DataFrame({\n",
    "    'Dureza': ['No data', 'blanda', 'media', 'dura', 'media, blanda',\n",
    "       'dura, media']\n",
    "})'''\n",
    "\n",
    "df['Dureza'] = df['Dureza'].apply(lambda x: \n",
    "    x if x == 'media' or x == 'blanda' or x == 'dura'\n",
    "    else 'dura' if 'dura, media'in x \n",
    "    else 'blanda' if 'media, blanda' in x \n",
    "    else 'No data')\n",
    "\n"
   ]
  },
  {
   "cell_type": "code",
   "execution_count": null,
   "metadata": {},
   "outputs": [],
   "source": [
    "'''df['Nivel de Juego'] = pd.DataFrame({\n",
    "    'Nivel de Juego': ['avanzado / competición', 'principiante / intermedio',\n",
    "       'avanzado / competición, profesional', 'profesional',\n",
    "       'principiante / intermedio, profesional', 'No data',\n",
    "       'avanzado / competición, principiante / intermedio']\n",
    "})'''\n"
   ]
  },
  {
   "cell_type": "code",
   "execution_count": 10,
   "metadata": {},
   "outputs": [],
   "source": [
    "df['Nivel de Juego'] = df['Nivel de Juego'].apply(lambda x: \n",
    "    x if x == 'No data' else\n",
    "    'pro' if 'profesional' in x else\n",
    "    'avanzado' if 'avanzado / competición' in x or 'avanzado / competición, profesional' in x or 'principiante / intermedio, profesional' in x else\n",
    "    'principiante' if 'principiante / intermedio' in x else\n",
    "    None \n",
    ")"
   ]
  },
  {
   "cell_type": "code",
   "execution_count": 11,
   "metadata": {},
   "outputs": [
    {
     "data": {
      "text/plain": [
       "array([None], dtype=object)"
      ]
     },
     "execution_count": 11,
     "metadata": {},
     "output_type": "execute_result"
    }
   ],
   "source": [
    "df['Nivel de Juego'].unique()"
   ]
  },
  {
   "cell_type": "code",
   "execution_count": 12,
   "metadata": {},
   "outputs": [],
   "source": [
    "'''df['Tipo de Juego'] = pd.DataFrame({\n",
    "    'Tipo de Juego': ['No data', 'control', 'polivalente', 'potencia',\n",
    "       'control, potencia']\n",
    "})'''\n",
    "df['Tipo de Juego'] = df['Tipo de Juego'].apply(lambda x:\n",
    "x if x == 'control' or x == 'polivalente' or x == 'potencia'\n",
    "else 'polivalente' if 'control, potencia' in x\n",
    "else 'No data' )\n"
   ]
  },
  {
   "cell_type": "code",
   "execution_count": 13,
   "metadata": {},
   "outputs": [
    {
     "data": {
      "text/plain": [
       "array(['No data', 'control', 'polivalente', 'potencia'], dtype=object)"
      ]
     },
     "execution_count": 13,
     "metadata": {},
     "output_type": "execute_result"
    }
   ],
   "source": [
    "df['Tipo de Juego'].unique()"
   ]
  },
  {
   "cell_type": "code",
   "execution_count": 14,
   "metadata": {},
   "outputs": [
    {
     "data": {
      "text/plain": [
       "array(['hombre, mujer', 'mujer', 'junior', 'hombre', 'No data'],\n",
       "      dtype=object)"
      ]
     },
     "execution_count": 14,
     "metadata": {},
     "output_type": "execute_result"
    }
   ],
   "source": [
    "df['Jugador'].unique()"
   ]
  },
  {
   "cell_type": "code",
   "execution_count": 15,
   "metadata": {},
   "outputs": [],
   "source": [
    "df['Jugador'] = df['Jugador'].apply(lambda x:\n",
    "x if x == 'hombre' or x == 'mujer' or x == 'junior'\n",
    "else 'mixta' if 'hombre, mujer' in x\n",
    "else 'No data')"
   ]
  }
 ],
 "metadata": {
  "kernelspec": {
   "display_name": "Python 3",
   "language": "python",
   "name": "python3"
  },
  "language_info": {
   "codemirror_mode": {
    "name": "ipython",
    "version": 3
   },
   "file_extension": ".py",
   "mimetype": "text/x-python",
   "name": "python",
   "nbconvert_exporter": "python",
   "pygments_lexer": "ipython3",
   "version": "3.12.2"
  }
 },
 "nbformat": 4,
 "nbformat_minor": 2
}
