{
  "nbformat": 4,
  "nbformat_minor": 0,
  "metadata": {
    "colab": {
      "provenance": []
    },
    "kernelspec": {
      "name": "python3",
      "display_name": "Python 3"
    },
    "language_info": {
      "name": "python"
    }
  },
  "cells": [
    {
      "cell_type": "code",
      "execution_count": 50,
      "metadata": {
        "id": "AC0M65CTkP8N"
      },
      "outputs": [],
      "source": [
        "# Importamos librerías necesarias\n",
        "import pandas as pd\n",
        "import requests\n",
        "from bs4 import BeautifulSoup\n",
        "import time"
      ]
    },
    {
      "cell_type": "code",
      "source": [
        "import requests\n",
        "from bs4 import BeautifulSoup\n",
        "import pandas as pd\n",
        "import concurrent.futures\n",
        "\n",
        "# Lista de URLs de las 49 páginas\n",
        "webs = [\"https://www.padelnuestro.com/palas-padel/?p={}\".format(i) for i in range(1, 50)]\n",
        "\n",
        "# Listas vacías para incluir la distinta información\n",
        "palas = []\n",
        "precio = []\n",
        "enlaces = []\n",
        "categorias = []\n",
        "marcas = []\n",
        "generos = []\n",
        "formas = []\n",
        "\n",
        "# Definir listas de palabras clave para cada tipo de categoría\n",
        "niveles_juego_keywords = [\"Principiante\", \"Intermedio\", \"Avanzado\", \"Competición\"]\n",
        "marcas_keywords = [\n",
        "    \"Adidas\", \"Bullpadel\", \"Head\", \"Wilson\", \"Dunlop\", \"Drop Shot\", \"Softee\", \"Enebe\", \"Babolat\", \"Black Crown\", \"Cartri\",\n",
        "    \"Eme\", \"Gama\", \"Joma\", \"Just Ten\", \"Kaitt\", \"Kelme\", \"Kuikma\", \"Nox\", \"Orygen\", \"Royal Padel\", \"Siux\", \"Star Vie\",\n",
        "    \"Varlion\", \"Vibor-A\", \"Varlion\", \"Wingpadel\", \"Vision\", \"Rossignol\", \"DHS\", \"Tecnifibre\", \"Power Padel\", \"Oxdog\",\n",
        "    \"Prokennex\", \"Prince\", \"Volkl\", \"Slazenger\", \"ShockOut\", \"RoyalPadel\", \"Qustom Padel\", \"Paddle Coach\"\n",
        "]\n",
        "generos_keywords = [\"Hombre\", \"Mujer\", \"Unisex\"]\n",
        "formas_keywords = [\"Redonda\", \"Diamante\", \"Lágrima\", \"Híbrida\", \"Polivalente\", \"Control\"]\n",
        "\n",
        "# Función para extraer detalles de cada producto\n",
        "def extraer_detalles_producto(url):\n",
        "    page = requests.get(url)\n",
        "    if page.status_code == 200:\n",
        "        soup = BeautifulSoup(page.content, 'html.parser')\n",
        "\n",
        "        # Extraer el nombre del producto\n",
        "        a = soup.find('span', class_='name')\n",
        "        if a:\n",
        "            palas.append(a.text.strip())\n",
        "        else:\n",
        "            palas.append(\"No name\")\n",
        "\n",
        "\n",
        "\n",
        "        # Extraer el precio del producto\n",
        "        c = soup.select_one('span.price')\n",
        "        if c:\n",
        "            precio.append(c.text.strip())\n",
        "        else:\n",
        "            precio.append(\"No price\")\n",
        "\n",
        "        # Extraer las categorías del producto\n",
        "        categories = soup.find_all('span', class_='category')\n",
        "        nivel_juego, marca, genero, forma = \"No category\", \"No brand\", \"No gender\", \"No shape\"\n",
        "\n",
        "        for category in categories:\n",
        "            text = category.text.strip()\n",
        "            if any(keyword in text for keyword in niveles_juego_keywords):\n",
        "                nivel_juego = text\n",
        "            elif any(keyword in text for keyword in marcas_keywords):\n",
        "                marca = text\n",
        "            elif any(keyword in text for keyword in generos_keywords):\n",
        "                genero = text\n",
        "            elif any(keyword in text for keyword in formas_keywords):\n",
        "                forma = text\n",
        "\n",
        "        categorias.append(nivel_juego)\n",
        "        marcas.append(marca)\n",
        "        generos.append(genero)\n",
        "        formas.append(forma)\n",
        "\n",
        "        # Guardar la URL del producto\n",
        "        enlaces.append(url)\n",
        "    else:\n",
        "        print(f\"Error al acceder a {url}: Status code {page.status_code}\")\n",
        "\n",
        "# Función para procesar cada página de productos\n",
        "def procesar_pagina(web):\n",
        "    page = requests.get(web)\n",
        "    if page.status_code == 200:\n",
        "        soup = BeautifulSoup(page.content, 'html.parser')\n",
        "        product_containers = soup.find_all('div', class_=\"product-item-info\")\n",
        "        product_links = []\n",
        "        for container in product_containers:\n",
        "            enlace_tag = container.find('a', class_='product-item-link')\n",
        "            if enlace_tag:\n",
        "                enlace = enlace_tag.get('href')\n",
        "                if enlace:\n",
        "                    product_links.append(enlace)\n",
        "        return product_links\n",
        "    else:\n",
        "        print(f\"Error al acceder a {web}: Status code {page.status_code}\")\n",
        "        return []\n",
        "\n",
        "# Usamos concurrent.futures para procesar las páginas de productos concurrentemente\n",
        "with concurrent.futures.ThreadPoolExecutor(max_workers=10) as executor:\n",
        "    # Primero, obtenemos todos los enlaces de productos\n",
        "    futures = [executor.submit(procesar_pagina, web) for web in webs]\n",
        "    product_links = []\n",
        "    for future in concurrent.futures.as_completed(futures):\n",
        "        product_links.extend(future.result())\n",
        "\n",
        "# Usamos concurrent.futures para extraer los detalles de los productos concurrentemente\n",
        "with concurrent.futures.ThreadPoolExecutor(max_workers=10) as executor:\n",
        "    futures = [executor.submit(extraer_detalles_producto, link) for link in product_links]\n",
        "    for future in concurrent.futures.as_completed(futures):\n",
        "        future.result()\n",
        "\n",
        "# Crear un DataFrame con los datos obtenidos\n",
        "df = pd.DataFrame({\n",
        "    'Pala': palas,\n",
        "    'Precio': precio,\n",
        "    'Nivel de Juego': categorias,\n",
        "    'Marca': marcas,\n",
        "    'Genero': generos,\n",
        "    'Forma': formas,\n",
        "    'Enlace': enlaces\n",
        "})\n",
        "\n",
        "# Guardar el DataFrame en un archivo CSV\n",
        "df.to_csv('palas_padel.csv', index=False)\n",
        "\n",
        "print(\"Scraping completado y datos guardados en 'palas_padel.csv'\")\n"
      ],
      "metadata": {
        "colab": {
          "base_uri": "https://localhost:8080/"
        },
        "id": "YawJ-cQSXuiU",
        "outputId": "3ac661fe-db72-4ec5-e03c-01764d76cca2"
      },
      "execution_count": 51,
      "outputs": [
        {
          "output_type": "stream",
          "name": "stdout",
          "text": [
            "Scraping completado y datos guardados en 'palas_padel.csv'\n"
          ]
        }
      ]
    },
    {
      "cell_type": "code",
      "source": [
        "print (df)"
      ],
      "metadata": {
        "colab": {
          "base_uri": "https://localhost:8080/"
        },
        "id": "P9WyyaZrUR2N",
        "outputId": "da64caf1-af01-4ecd-a8d6-84873dfee983"
      },
      "execution_count": 52,
      "outputs": [
        {
          "output_type": "stream",
          "name": "stdout",
          "text": [
            "                                                  Pala    Precio  \\\n",
            "0                                     BULLPADEL NEURON  172,95 €   \n",
            "1                                HEAD EXTREME ONE 2023  251,95 €   \n",
            "2                                 SIUX BEAT HYBRID AIR   80,00 €   \n",
            "3                      STAR VIE S2 FLUOR CARBON EFFECT  114,95 €   \n",
            "4                            NOX AT PRO CUP COORP 2024  118,95 €   \n",
            "..                                                 ...       ...   \n",
            "928                 RS PADEL PRO EDITION SIMON VASQUEZ  298,95 €   \n",
            "929                 PICKLEBALL HEAD EXTREME ELITE 2023   69,95 €   \n",
            "930                 PICKLEBALL HEAD RADICAL PRO 226022  109,95 €   \n",
            "931  PICKLEBALL ADIDAS PB ADIPOWER ATTK 3.2 GRIS AM...  229,95 €   \n",
            "932  PICKLEBALL ADIDAS PB ADIPOWER ATTK TEAM NEGRO ...  184,95 €   \n",
            "\n",
            "                 Nivel de Juego       Marca   Genero      Forma  \\\n",
            "0       /Avanzado / Competición  /Bullpadel  /Hombre   /Híbrida   \n",
            "1       /Avanzado / Competición       /Head  /Hombre  /Diamante   \n",
            "2    /Principiante / Intermedio       /Siux   /Mujer   /Híbrida   \n",
            "3       /Avanzado / Competición    No brand   /Mujer   /Redonda   \n",
            "4                   No category        /Nox   /Mujer   /Lágrima   \n",
            "..                          ...         ...      ...        ...   \n",
            "928     /Avanzado / Competición    No brand  /Hombre   /Híbrida   \n",
            "929     /Avanzado / Competición       /Head   /Mujer   No shape   \n",
            "930     /Avanzado / Competición       /Head   /Mujer   /Control   \n",
            "931     /Avanzado / Competición     /Adidas   /Mujer   /Control   \n",
            "932     /Avanzado / Competición     /Adidas   /Mujer   No shape   \n",
            "\n",
            "                                                Enlace  \n",
            "0    https://www.padelnuestro.com/bullpadel-neuron-...  \n",
            "1    https://www.padelnuestro.com/head-extreme-one-...  \n",
            "2    https://www.padelnuestro.com/siux-beat-hybrid-...  \n",
            "3    https://www.padelnuestro.com/star-vie-s2-fluor...  \n",
            "4    https://www.padelnuestro.com/nox-at-pro-cup-co...  \n",
            "..                                                 ...  \n",
            "928  https://www.padelnuestro.com/rs-padel-pro-edit...  \n",
            "929  https://www.padelnuestro.com/pickleball-head-e...  \n",
            "930  https://www.padelnuestro.com/pickleball-head-r...  \n",
            "931  https://www.padelnuestro.com/pickleball-adidas...  \n",
            "932  https://www.padelnuestro.com/pickleball-adidas...  \n",
            "\n",
            "[933 rows x 7 columns]\n"
          ]
        }
      ]
    },
    {
      "cell_type": "code",
      "source": [
        "# Nombre del archivo CSV\n",
        "csv_file = 'palas_padel.csv'\n",
        "\n",
        "# Nombre del archivo JSON de salida\n",
        "json_file = 'palas_padel.json'\n",
        "\n",
        "# Leer el archivo CSV\n",
        "df = pd.read_csv(csv_file)\n",
        "\n",
        "# Convertir el DataFrame a JSON\n",
        "df.to_json(json_file, orient='records', lines=True)\n",
        "\n",
        "print(f\"Archivo CSV '{csv_file}' convertido a JSON y guardado como '{json_file}'\")"
      ],
      "metadata": {
        "colab": {
          "base_uri": "https://localhost:8080/"
        },
        "id": "lyLA1J4jnu6m",
        "outputId": "14f7fcaa-87de-414e-9b6c-c866601e8a91"
      },
      "execution_count": 45,
      "outputs": [
        {
          "output_type": "stream",
          "name": "stdout",
          "text": [
            "Archivo CSV 'palas_padel.csv' convertido a JSON y guardado como 'palas_padel.json'\n"
          ]
        }
      ]
    }
  ]
}