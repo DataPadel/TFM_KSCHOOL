{
 "cells": [
  {
   "cell_type": "markdown",
   "metadata": {},
   "source": [
    "pip install boto3 # Instalar en terminal esta libreria\n",
    "\n",
    "pip install python-dotenv # Instalar. \n",
    "\n",
    "Las claves tienen que estar en un documento sin nombre .env y ternerlo .gitignore para que no se hagan publicas las claves de AWS. Este fichero lo creo yo con los compañeros. Tiene que estar en la misma carperta que este código."
   ]
  },
  {
   "cell_type": "code",
   "execution_count": null,
   "metadata": {},
   "outputs": [],
   "source": [
    "%pip install python-dotenv"
   ]
  },
  {
   "cell_type": "code",
   "execution_count": null,
   "metadata": {},
   "outputs": [],
   "source": [
    "%pip install boto3\n"
   ]
  },
  {
   "cell_type": "code",
   "execution_count": null,
   "metadata": {},
   "outputs": [],
   "source": [
    "\n",
    "import os\n",
    "from dotenv import load_dotenv\n",
    "import boto3\n",
    "\n",
    "\n",
    "load_dotenv()\n",
    "AWS_SERVER_PUBLIC_KEY = os.getenv('AWS_SERVER_PUBLIC_KEY')\n",
    "AWS_SERVER_SECRET_KEY = os.getenv('AWS_SERVER_SECRET_KEY')\n",
    "\n",
    "\n",
    "session = boto3.Session(\n",
    "    aws_access_key_id=AWS_SERVER_PUBLIC_KEY,\n",
    "    aws_secret_access_key=AWS_SERVER_SECRET_KEY,\n",
    ")\n",
    "s3 = session.resource('s3')\n",
    "\n",
    "\n",
    "obj = s3.Object(bucket_name='proyectotfm', key='caracteristicas_palas_padel.json')\n",
    "response = obj.get()\n",
    "df_caracteristicas = response['Body'].read()\n",
    "\n",
    "print(df_caracteristicas)\n",
    "\n"
   ]
  },
  {
   "cell_type": "code",
   "execution_count": null,
   "metadata": {},
   "outputs": [],
   "source": [
    "import os\n",
    "import json\n",
    "import pandas as pd\n",
    "from dotenv import load_dotenv\n",
    "import boto3\n",
    "\n",
    "load_dotenv()\n",
    "\n",
    "# Obtener las credenciales de AWS desde las variables de entorno\n",
    "AWS_SERVER_PUBLIC_KEY = os.getenv('AWS_SERVER_PUBLIC_KEY')\n",
    "AWS_SERVER_SECRET_KEY = os.getenv('AWS_SERVER_SECRET_KEY')\n",
    "\n",
    "# Crear una sesión de boto3 con las credenciales de AWS\n",
    "session = boto3.Session(\n",
    "    aws_access_key_id=AWS_SERVER_PUBLIC_KEY,\n",
    "    aws_secret_access_key=AWS_SERVER_SECRET_KEY,\n",
    ")\n",
    "\n",
    "# Obtener el recurso de S3\n",
    "s3 = session.resource('s3')\n",
    "\n",
    "# Especificar el objeto que quieres leer\n",
    "obj = s3.Object(bucket_name='proyectotfm', key='caracteristicas_palas_padel.json')\n",
    "response = obj.get()\n",
    "data = response['Body'].read().decode('utf-8')\n",
    "\n",
    "# Cargar el JSON en un diccionario de Python\n",
    "json_data = json.loads(data)\n",
    "\n",
    "# Convertir el diccionario a un DataFrame de pandas\n",
    "df_caracteristicas = pd.DataFrame(json_data)\n",
    "\n",
    "# Guardar el DataFrame como un archivo CSV\n",
    "df_caracteristicas.to_csv('caracteristicas_palas_padel.csv', index=False)\n",
    "\n",
    "print(\"Archivo CSV creado exitosamente.\")\n"
   ]
  },
  {
   "cell_type": "code",
   "execution_count": null,
   "metadata": {},
   "outputs": [],
   "source": [
    "import pandas as pd\n",
    "\n",
    "# Ruta del archivo CSV\n",
    "csv_file_path = 'caracteristicas_palas_padel.csv'\n",
    "\n",
    "# Leer el archivo CSV y convertirlo en un DataFrame\n",
    "try:\n",
    "    df = pd.read_csv(csv_file_path)\n",
    "    \n",
    "    # Mostrar los primeros 20 registros del DataFrame\n",
    "    print(df.head(20))\n",
    "except FileNotFoundError:\n",
    "    print(\"Error: El archivo no se encontró.\")\n"
   ]
  },
  {
   "cell_type": "code",
   "execution_count": null,
   "metadata": {},
   "outputs": [],
   "source": [
    "load_dotenv()\n",
    "AWS_SERVER_PUBLIC_KEY = os.getenv('AWS_SERVER_PUBLIC_KEY')\n",
    "AWS_SERVER_SECRET_KEY = os.getenv('AWS_SERVER_SECRET_KEY')\n",
    "\n",
    "\n",
    "session = boto3.Session(\n",
    "    aws_access_key_id=AWS_SERVER_PUBLIC_KEY,\n",
    "    aws_secret_access_key=AWS_SERVER_SECRET_KEY,\n",
    ")\n",
    "s3 = session.resource('s3')\n",
    "\n",
    "\n",
    "obj = s3.Object(bucket_name='proyectotfm', key='formulario_combinaciones.json')\n",
    "response = obj.get()\n",
    "df_caracteristicas = response['Body'].read()\n",
    "\n",
    "print(df_caracteristicas)"
   ]
  },
  {
   "cell_type": "code",
   "execution_count": null,
   "metadata": {},
   "outputs": [],
   "source": [
    "import os\n",
    "import json\n",
    "import pandas as pd\n",
    "from dotenv import load_dotenv\n",
    "import boto3\n",
    "\n",
    "load_dotenv()\n",
    "\n",
    "# Obtener las credenciales de AWS desde las variables de entorno\n",
    "AWS_SERVER_PUBLIC_KEY = os.getenv('AWS_SERVER_PUBLIC_KEY')\n",
    "AWS_SERVER_SECRET_KEY = os.getenv('AWS_SERVER_SECRET_KEY')\n",
    "\n",
    "# Crear una sesión de boto3 con las credenciales de AWS\n",
    "session = boto3.Session(\n",
    "    aws_access_key_id=AWS_SERVER_PUBLIC_KEY,\n",
    "    aws_secret_access_key=AWS_SERVER_SECRET_KEY,\n",
    ")\n",
    "\n",
    "# Obtener el recurso de S3\n",
    "s3 = session.resource('s3')\n",
    "\n",
    "# Especificar el objeto que quieres leer\n",
    "obj = s3.Object(bucket_name='proyectotfm', key='formulario_combinaciones.json')\n",
    "response = obj.get()\n",
    "data = response['Body'].read().decode('utf-8')\n",
    "\n",
    "# Cargar el JSON en un diccionario de Python\n",
    "json_data = json.loads(data)\n",
    "\n",
    "# Convertir el diccionario a un DataFrame de pandas\n",
    "df_caracteristicas = pd.DataFrame(json_data)\n",
    "\n",
    "# Guardar el DataFrame como un archivo CSV\n",
    "df_caracteristicas.to_csv('formulario_combinaciones.json.csv', index=False)\n",
    "\n",
    "print(\"Archivo CSV creado exitosamente.\")"
   ]
  },
  {
   "cell_type": "code",
   "execution_count": null,
   "metadata": {},
   "outputs": [],
   "source": [
    "import pandas as pd\n",
    "\n",
    "# Ruta del archivo CSV\n",
    "csv_file_path = 'formulario_combinaciones.json.csv'\n",
    "\n",
    "# Leer el archivo CSV y convertirlo en un DataFrame\n",
    "try:\n",
    "    df = pd.read_csv(csv_file_path)\n",
    "    \n",
    "    # Mostrar los primeros 20 registros del DataFrame\n",
    "    print(df.head(20))\n",
    "except FileNotFoundError:\n",
    "    print(\"Error: El archivo no se encontró.\")\n"
   ]
  },
  {
   "cell_type": "code",
   "execution_count": null,
   "metadata": {},
   "outputs": [],
   "source": [
    "df.head()\n"
   ]
  },
  {
   "cell_type": "code",
   "execution_count": null,
   "metadata": {},
   "outputs": [],
   "source": [
    "from sklearn.preprocessing import LabelEncoder\n",
    "\n",
    "# Crear una copia del DataFrame original\n",
    "df_label = df.copy()\n",
    "\n",
    "# Lista de columnas categóricas\n",
    "columnas_categoricas = [\n",
    "    'Cuantas horas juega a la semana',\n",
    "    'Indique su peso',\n",
    "    'Indique su altura',\n",
    "    'Rango de precio dispuesto a pagar',\n",
    "    'Indique su lado de juego',\n",
    "    'Indique su nivel de juego',\n",
    "    'Tipo de juego',\n",
    "    'Que tipo de balance te gusta',\n",
    "    'Has tenido alguna de las siguientes lesiones previamente lumbares, epicondilitis, gemelos, fascitis, cervicales u hombros',\n",
    "    'Con que frecuencia',\n",
    "    'Hace cuanto'\n",
    "]\n",
    "\n",
    "# Aplicamos LabelEncoder a cada columna categórica\n",
    "labelencoder = LabelEncoder()\n",
    "\n",
    "for columna in columnas_categoricas:\n",
    "    df_label[columna] = labelencoder.fit_transform(df_label[columna].astype(str))  # Convertimos a string para evitar errores con valores nulos\n",
    "\n",
    "# `df_label` ahora contiene las columnas categóricas transformadas\n"
   ]
  },
  {
   "cell_type": "code",
   "execution_count": null,
   "metadata": {},
   "outputs": [],
   "source": [
    "from sklearn.preprocessing import LabelEncoder\n",
    "\n",
    "# Crear un diccionario para almacenar los mapeos de cada columna\n",
    "mapeos = {}\n",
    "\n",
    "# Aplicar LabelEncoder a cada columna categórica\n",
    "for columna in columnas_categoricas:\n",
    "    labelencoder = LabelEncoder()\n",
    "    df_label[columna] = labelencoder.fit_transform(df_label[columna].astype(str))  # Transformar la columna\n",
    "    mapeos[columna] = dict(enumerate(labelencoder.classes_))  # Guardar el mapeo (número -> categoría)\n",
    "\n",
    "# Mostrar el mapeo de una columna específica\n",
    "for columna, mapping in mapeos.items():\n",
    "    print(f\"Columna: {columna}\")\n",
    "    print(mapping)\n"
   ]
  },
  {
   "cell_type": "code",
   "execution_count": null,
   "metadata": {},
   "outputs": [],
   "source": [
    "'''Columna: Cuantas horas juega a la semana\n",
    "{0: '0', 1: '1'}\n",
    "Columna: Indique su peso\n",
    "{0: '0', 1: '1', 2: '2'}\n",
    "Columna: Indique su altura\n",
    "{0: '0', 1: '1', 2: '2'}\n",
    "Columna: Rango de precio dispuesto a pagar\n",
    "{0: '0', 1: '1', 2: '2'}\n",
    "Columna: Indique su lado de juego\n",
    "{0: '0', 1: '1'}\n",
    "Columna: Indique su nivel de juego\n",
    "{0: '0', 1: '1', 2: '2'}\n",
    "Columna: Tipo de juego\n",
    "{0: '0', 1: '1'}\n",
    "Columna: Que tipo de balance te gusta\n",
    "{0: '0', 1: '1'}\n",
    "Columna: Has tenido alguna de las siguientes lesiones previamente lumbares, epicondilitis, gemelos, fascitis, cervicales u hombros\n",
    "{0: '0', 1: '1', 2: '2', 3: '3', 4: '4', 5: '5'}\n",
    "Columna: Con que frecuencia\n",
    "{0: '0', 1: '1', 2: '2', 3: '3'}\n",
    "Columna: Hace cuanto\n",
    "{0: '0', 1: '1', 2: '2'}'''"
   ]
  },
  {
   "cell_type": "code",
   "execution_count": 13,
   "metadata": {},
   "outputs": [
    {
     "name": "stdout",
     "output_type": "stream",
     "text": [
      "Columna: Cuantas horas juega a la semana\n",
      "{1: 'Menos de 3,5 horas', 0: 'Mas de 3.5 horas'}\n",
      "Columna: Indique su peso\n",
      "{0: 'Entre 51 y 70 Kg', 1: 'Entre 71 y 90 Kg', 2: 'Más de 91 Kg'}\n",
      "Columna: Indique su altura\n",
      "{0: 'Entre 1,51 y 1,70 metros', 1: 'Entre 1,71 y 1,80 metros', 2: 'Mas de 1,80 metros'}\n",
      "Columna: Rango de precio dispuesto a pagar\n",
      "{2: 'Menos de 100', 0: 'Entre 100 y 200 ', 1: 'Mas de 200 '}\n",
      "Columna: Indique su lado de juego\n",
      "{0: 'Drive', 1: 'Reves'}\n",
      "Columna: Indique su nivel de juego\n",
      "{1: 'Iniciacion', 2: 'Intermedio', 0: 'Avanzado'}\n",
      "Columna: Tipo de juego\n",
      "{1: 'Ofensivo', 0: 'Defensivo'}\n",
      "Columna: Que tipo de balance te gusta\n",
      "{1: 'Medio', 0: 'Alto'}\n",
      "Columna: Has tenido alguna de las siguientes lesiones previamente lumbares, epicondilitis, gemelos, fascitis, cervicales u hombros\n",
      "{4: 'Lumbares', 1: 'Epicondilitis', 2: 'Gemelos o fascitis', 0: 'Cervicales', 3: 'Hombros', 5: 'Ninguna'}\n",
      "Columna: Con que frecuencia\n",
      "{2: 'Siempre que juego defensivamente', 3: 'Siempre que juego ofensivamente', 0: 'Casi siempre que juego intensamente', 1: 'Rara vez cuando juego'}\n",
      "Columna: Hace cuanto\n",
      "{2: 'Menos de 3 meses', 0: 'Entre 3 y 6 meses', 1: 'Mas de 6 meses'}\n"
     ]
    }
   ],
   "source": [
    "# Diccionario para guardar los mapeos\n",
    "mapeos = {}\n",
    "\n",
    "# Crear el mapeo para cada columna categórica\n",
    "for columna in columnas_categoricas:\n",
    "    categorias_originales = df[columna].astype(str)  # Asegúrate de que sean cadenas\n",
    "    categorias_codificadas = df_label[columna]\n",
    "    \n",
    "    # Crear un mapeo único (original -> codificado)\n",
    "    mapeo = dict(zip(categorias_codificadas, categorias_originales))\n",
    "    mapeos[columna] = mapeo\n",
    "\n",
    "# Mostrar el mapeo para cada columna\n",
    "for columna, mapping in mapeos.items():\n",
    "    print(f\"Columna: {columna}\")\n",
    "    print(mapping)\n"
   ]
  },
  {
   "cell_type": "code",
   "execution_count": 14,
   "metadata": {},
   "outputs": [],
   "source": [
    "ponderaciones = {\n",
    "    'Cuantas horas juega a la semana': {1: 0, 0: 0.5},\n",
    "    'Indique su peso': {0: 0, 1: 0, 2: 0.5},\n",
    "    'Indique su altura': {0: 0, 1: 0, 2: 0.5},\n",
    "    'Rango de precio dispuesto a pagar': {2: 0, 0: 0, 1: 0},\n",
    "    'Indique su lado de juego': {0: 0, 1: 0.5},\n",
    "    'Indique su nivel de juego': {1: 0, 2: 1, 0: 2},\n",
    "    'Tipo de juego': {1: 0.5, 0: 0},\n",
    "    'Que tipo de balance te gusta': {1: 0, 0: 0.5},\n",
    "    'Has tenido alguna de las siguientes lesiones previamente lumbares, epicondilitis, gemelos, fascitis, cervicales u hombros': {4: 0.5, 1: 1, 2: 0.5, 0: 1, 3: 1, 5: 0},\n",
    "    'Con que frecuencia': {2: 0.5, 3: 0.5, 0: 0.25, 1: 0.15},\n",
    "    'Hace cuanto': {2: 0.5, 0: 0.25, 1: 0.15}\n",
    "}\n"
   ]
  },
  {
   "cell_type": "code",
   "execution_count": 15,
   "metadata": {},
   "outputs": [
    {
     "name": "stdout",
     "output_type": "stream",
     "text": [
      "   Cuantas horas juega a la semana  Indique su peso  Indique su altura  \\\n",
      "0                              0.0              0.0                0.0   \n",
      "1                              0.0              0.0                0.0   \n",
      "2                              0.0              0.0                0.0   \n",
      "3                              0.0              0.0                0.0   \n",
      "4                              0.0              0.0                0.0   \n",
      "\n",
      "   Rango de precio dispuesto a pagar  Indique su lado de juego  \\\n",
      "0                                  0                       0.0   \n",
      "1                                  0                       0.0   \n",
      "2                                  0                       0.0   \n",
      "3                                  0                       0.0   \n",
      "4                                  0                       0.0   \n",
      "\n",
      "   Indique su nivel de juego  Tipo de juego  Que tipo de balance te gusta  \\\n",
      "0                          0            0.5                           0.0   \n",
      "1                          0            0.5                           0.0   \n",
      "2                          0            0.5                           0.0   \n",
      "3                          0            0.5                           0.0   \n",
      "4                          0            0.5                           0.0   \n",
      "\n",
      "   Has tenido alguna de las siguientes lesiones previamente lumbares, epicondilitis, gemelos, fascitis, cervicales u hombros  \\\n",
      "0                                                0.5                                                                           \n",
      "1                                                0.5                                                                           \n",
      "2                                                0.5                                                                           \n",
      "3                                                0.5                                                                           \n",
      "4                                                0.5                                                                           \n",
      "\n",
      "   Con que frecuencia  Hace cuanto  \n",
      "0                 0.5         0.50  \n",
      "1                 0.5         0.25  \n",
      "2                 0.5         0.15  \n",
      "3                 0.5         0.50  \n",
      "4                 0.5         0.25  \n"
     ]
    }
   ],
   "source": [
    "# Crear una copia del DataFrame original para trabajar\n",
    "df_scored = df_label.copy()\n",
    "\n",
    "# Reemplazar las categorías por sus scores personalizados\n",
    "for columna, mapping in ponderaciones.items():\n",
    "    df_scored[columna] = df_scored[columna].map(mapping)\n",
    "\n",
    "# Verifica que los valores sean correctos\n",
    "print(df_scored.head())\n"
   ]
  },
  {
   "cell_type": "code",
   "execution_count": 16,
   "metadata": {},
   "outputs": [
    {
     "name": "stdout",
     "output_type": "stream",
     "text": [
      "       Score\n",
      "0       2.00\n",
      "1       1.75\n",
      "2       1.65\n",
      "3       2.00\n",
      "4       1.75\n",
      "...      ...\n",
      "93307   5.00\n",
      "93308   4.90\n",
      "93309   5.15\n",
      "93310   4.90\n",
      "93311   4.80\n",
      "\n",
      "[93312 rows x 1 columns]\n"
     ]
    }
   ],
   "source": [
    "# Calcular el score total sumando las columnas ponderadas\n",
    "df_scored['Score'] = df_scored.sum(axis=1)\n",
    "\n",
    "# Mostrar el resultado\n",
    "print(df_scored[['Score']])\n"
   ]
  },
  {
   "cell_type": "code",
   "execution_count": 18,
   "metadata": {},
   "outputs": [
    {
     "name": "stdout",
     "output_type": "stream",
     "text": [
      "   Score  Score_Escalar\n",
      "0   2.00       0.253731\n",
      "1   1.75       0.216418\n",
      "2   1.65       0.201493\n",
      "3   2.00       0.253731\n",
      "4   1.75       0.216418\n"
     ]
    }
   ],
   "source": [
    "from sklearn.preprocessing import MinMaxScaler\n",
    "\n",
    "# Crear el escalador\n",
    "scaler = MinMaxScaler(feature_range=(0, 1))\n",
    "\n",
    "# Ajustar y transformar la columna Score\n",
    "df_scored['Score_Escalar'] = scaler.fit_transform(df_scored[['Score']])\n",
    "\n",
    "# Mostrar resultados\n",
    "print(df_scored[['Score', 'Score_Escalar']].head())\n"
   ]
  }
 ],
 "metadata": {
  "kernelspec": {
   "display_name": "Python 3",
   "language": "python",
   "name": "python3"
  },
  "language_info": {
   "codemirror_mode": {
    "name": "ipython",
    "version": 3
   },
   "file_extension": ".py",
   "mimetype": "text/x-python",
   "name": "python",
   "nbconvert_exporter": "python",
   "pygments_lexer": "ipython3",
   "version": "3.12.2"
  }
 },
 "nbformat": 4,
 "nbformat_minor": 2
}
