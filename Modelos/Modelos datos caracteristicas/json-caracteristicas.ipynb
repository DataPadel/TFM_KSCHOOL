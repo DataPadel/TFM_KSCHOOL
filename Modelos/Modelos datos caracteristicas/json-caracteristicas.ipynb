{
 "cells": [
  {
   "cell_type": "markdown",
   "metadata": {},
   "source": [
    "pip install boto3 # Instalar en terminal esta libreria\n",
    "\n",
    "pip install python-dotenv # Instalar. \n",
    "\n",
    "Las claves tienen que estar en un documento sin nombre .env y ternerlo .gitignore para que no se hagan publicas las claves de AWS. Este fichero lo creo yo con los compañeros. Tiene que estar en la misma carperta que este código."
   ]
  },
  {
   "cell_type": "code",
   "execution_count": null,
   "metadata": {},
   "outputs": [],
   "source": [
    "%pip install python-dotenv"
   ]
  },
  {
   "cell_type": "code",
   "execution_count": null,
   "metadata": {},
   "outputs": [],
   "source": [
    "%pip install boto3\n"
   ]
  },
  {
   "cell_type": "code",
   "execution_count": null,
   "metadata": {},
   "outputs": [],
   "source": [
    "\n",
    "import os\n",
    "from dotenv import load_dotenv\n",
    "import boto3\n",
    "\n",
    "\n",
    "load_dotenv()\n",
    "AWS_SERVER_PUBLIC_KEY = os.getenv('AWS_SERVER_PUBLIC_KEY')\n",
    "AWS_SERVER_SECRET_KEY = os.getenv('AWS_SERVER_SECRET_KEY')\n",
    "\n",
    "\n",
    "session = boto3.Session(\n",
    "    aws_access_key_id=AWS_SERVER_PUBLIC_KEY,\n",
    "    aws_secret_access_key=AWS_SERVER_SECRET_KEY,\n",
    ")\n",
    "s3 = session.resource('s3')\n",
    "\n",
    "\n",
    "obj = s3.Object(bucket_name='proyectotfm', key='caracteristicas_palas_padel.json')\n",
    "response = obj.get()\n",
    "df_caracteristicas = response['Body'].read()\n",
    "\n",
    "print(df_caracteristicas)\n",
    "\n"
   ]
  },
  {
   "cell_type": "code",
   "execution_count": null,
   "metadata": {},
   "outputs": [],
   "source": [
    "import os\n",
    "import json\n",
    "import pandas as pd\n",
    "from dotenv import load_dotenv\n",
    "import boto3\n",
    "\n",
    "load_dotenv()\n",
    "\n",
    "# Obtener las credenciales de AWS desde las variables de entorno\n",
    "AWS_SERVER_PUBLIC_KEY = os.getenv('AWS_SERVER_PUBLIC_KEY')\n",
    "AWS_SERVER_SECRET_KEY = os.getenv('AWS_SERVER_SECRET_KEY')\n",
    "\n",
    "# Crear una sesión de boto3 con las credenciales de AWS\n",
    "session = boto3.Session(\n",
    "    aws_access_key_id=AWS_SERVER_PUBLIC_KEY,\n",
    "    aws_secret_access_key=AWS_SERVER_SECRET_KEY,\n",
    ")\n",
    "\n",
    "# Obtener el recurso de S3\n",
    "s3 = session.resource('s3')\n",
    "\n",
    "# Especificar el objeto que quieres leer\n",
    "obj = s3.Object(bucket_name='proyectotfm', key='caracteristicas_palas_padel.json')\n",
    "response = obj.get()\n",
    "data = response['Body'].read().decode('utf-8')\n",
    "\n",
    "# Cargar el JSON en un diccionario de Python\n",
    "json_data = json.loads(data)\n",
    "\n",
    "# Convertir el diccionario a un DataFrame de pandas\n",
    "df_caracteristicas = pd.DataFrame(json_data)\n",
    "\n",
    "# Guardar el DataFrame como un archivo CSV\n",
    "df_caracteristicas.to_csv('caracteristicas_palas_padel.csv', index=False)\n",
    "\n",
    "print(\"Archivo CSV creado exitosamente.\")\n"
   ]
  },
  {
   "cell_type": "code",
   "execution_count": null,
   "metadata": {},
   "outputs": [],
   "source": [
    "import pandas as pd\n",
    "\n",
    "# Ruta del archivo CSV\n",
    "csv_file_path = 'caracteristicas_palas_padel.csv'\n",
    "\n",
    "# Leer el archivo CSV y convertirlo en un DataFrame\n",
    "try:\n",
    "    df = pd.read_csv(csv_file_path)\n",
    "    \n",
    "    # Mostrar los primeros 20 registros del DataFrame\n",
    "    print(df.head(20))\n",
    "except FileNotFoundError:\n",
    "    print(\"Error: El archivo no se encontró.\")\n"
   ]
  },
  {
   "cell_type": "code",
   "execution_count": null,
   "metadata": {},
   "outputs": [],
   "source": [
    "load_dotenv()\n",
    "AWS_SERVER_PUBLIC_KEY = os.getenv('AWS_SERVER_PUBLIC_KEY')\n",
    "AWS_SERVER_SECRET_KEY = os.getenv('AWS_SERVER_SECRET_KEY')\n",
    "\n",
    "\n",
    "session = boto3.Session(\n",
    "    aws_access_key_id=AWS_SERVER_PUBLIC_KEY,\n",
    "    aws_secret_access_key=AWS_SERVER_SECRET_KEY,\n",
    ")\n",
    "s3 = session.resource('s3')\n",
    "\n",
    "\n",
    "obj = s3.Object(bucket_name='proyectotfm', key='formulario_combinaciones.json')\n",
    "response = obj.get()\n",
    "df_caracteristicas = response['Body'].read()\n",
    "\n",
    "print(df_caracteristicas)"
   ]
  },
  {
   "cell_type": "code",
   "execution_count": null,
   "metadata": {},
   "outputs": [],
   "source": [
    "import os\n",
    "import json\n",
    "import pandas as pd\n",
    "from dotenv import load_dotenv\n",
    "import boto3\n",
    "\n",
    "load_dotenv()\n",
    "\n",
    "# Obtener las credenciales de AWS desde las variables de entorno\n",
    "AWS_SERVER_PUBLIC_KEY = os.getenv('AWS_SERVER_PUBLIC_KEY')\n",
    "AWS_SERVER_SECRET_KEY = os.getenv('AWS_SERVER_SECRET_KEY')\n",
    "\n",
    "# Crear una sesión de boto3 con las credenciales de AWS\n",
    "session = boto3.Session(\n",
    "    aws_access_key_id=AWS_SERVER_PUBLIC_KEY,\n",
    "    aws_secret_access_key=AWS_SERVER_SECRET_KEY,\n",
    ")\n",
    "\n",
    "# Obtener el recurso de S3\n",
    "s3 = session.resource('s3')\n",
    "\n",
    "# Especificar el objeto que quieres leer\n",
    "obj = s3.Object(bucket_name='proyectotfm', key='formulario_combinaciones.json')\n",
    "response = obj.get()\n",
    "data = response['Body'].read().decode('utf-8')\n",
    "\n",
    "# Cargar el JSON en un diccionario de Python\n",
    "json_data = json.loads(data)\n",
    "\n",
    "# Convertir el diccionario a un DataFrame de pandas\n",
    "df_caracteristicas = pd.DataFrame(json_data)\n",
    "\n",
    "# Guardar el DataFrame como un archivo CSV\n",
    "df_caracteristicas.to_csv('formulario_combinaciones.json.csv', index=False)\n",
    "\n",
    "print(\"Archivo CSV creado exitosamente.\")"
   ]
  },
  {
   "cell_type": "code",
   "execution_count": null,
   "metadata": {},
   "outputs": [],
   "source": [
    "import pandas as pd\n",
    "\n",
    "# Ruta del archivo CSV\n",
    "csv_file_path = 'formulario_combinaciones.json.csv'\n",
    "\n",
    "# Leer el archivo CSV y convertirlo en un DataFrame\n",
    "try:\n",
    "    df = pd.read_csv(csv_file_path)\n",
    "    \n",
    "    # Mostrar los primeros 20 registros del DataFrame\n",
    "    print(df.head(20))\n",
    "except FileNotFoundError:\n",
    "    print(\"Error: El archivo no se encontró.\")\n"
   ]
  },
  {
   "cell_type": "code",
   "execution_count": null,
   "metadata": {},
   "outputs": [],
   "source": [
    "df.head()\n"
   ]
  }
 ],
 "metadata": {
  "kernelspec": {
   "display_name": "Kschool",
   "language": "python",
   "name": "python3"
  },
  "language_info": {
   "codemirror_mode": {
    "name": "ipython",
    "version": 3
   },
   "file_extension": ".py",
   "mimetype": "text/x-python",
   "name": "python",
   "nbconvert_exporter": "python",
   "pygments_lexer": "ipython3",
   "version": "3.12.2"
  }
 },
 "nbformat": 4,
 "nbformat_minor": 2
}
